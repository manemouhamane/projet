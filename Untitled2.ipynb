{
 "cells": [
  {
   "cell_type": "code",
   "execution_count": 1,
   "id": "0e4c76f9-b233-4d64-b23b-e10d7e22c719",
   "metadata": {},
   "outputs": [
    {
     "name": "stdout",
     "output_type": "stream",
     "text": [
      "Collecting openpyxl\n",
      "  Using cached openpyxl-3.0.9-py2.py3-none-any.whl (242 kB)\n",
      "Collecting et-xmlfile\n",
      "  Using cached et_xmlfile-1.1.0-py3-none-any.whl (4.7 kB)\n",
      "Installing collected packages: et-xmlfile, openpyxl\n",
      "Successfully installed et-xmlfile-1.1.0 openpyxl-3.0.9\n",
      "Collecting pymongo\n",
      "  Using cached pymongo-4.0.1-cp39-cp39-manylinux_2_17_x86_64.manylinux2014_x86_64.whl (459 kB)\n",
      "Installing collected packages: pymongo\n",
      "Successfully installed pymongo-4.0.1\n"
     ]
    },
    {
     "data": {
      "text/plain": [
       "DataFrame[Country: string, CustomerID: double, Description: string, InvoiceDate: string, InvoiceNo: bigint, Quantity: bigint, StockCode: string, UnitPrice: double, _corrupt_record: string]"
      ]
     },
     "metadata": {},
     "output_type": "display_data"
    },
    {
     "name": "stdout",
     "output_type": "stream",
     "text": [
      " Le nombre de transaction par facture\n",
      "+---------+--------+\n",
      "|InvoiceNo|count(1)|\n",
      "+---------+--------+\n",
      "|   536821|     161|\n",
      "|   537381|     168|\n",
      "|   538809|      77|\n",
      "|   538878|      56|\n",
      "|   539048|       7|\n",
      "|   539334|      70|\n",
      "|   540168|     357|\n",
      "|   540251|       7|\n",
      "|   540260|     287|\n",
      "|   536378|     133|\n",
      "|   536380|       7|\n",
      "|   536437|      42|\n",
      "|   537159|     196|\n",
      "|   537204|     224|\n",
      "|   537359|      63|\n",
      "|   539597|      14|\n",
      "|   539730|      77|\n",
      "|   540015|     196|\n",
      "|   536641|       7|\n",
      "|   537048|      14|\n",
      "+---------+--------+\n",
      "only showing top 20 rows\n",
      "\n",
      "Le produit le plus vendu est 23843 \n",
      "+----------+------------------+\n",
      "|CustomerID|             total|\n",
      "+----------+------------------+\n",
      "|   14646.0|1941423.5399999982|\n",
      "+----------+------------------+\n",
      "\n",
      "L'Id du client qui a depensé le plus est 14646.0 \n"
     ]
    }
   ],
   "source": [
    "!pip install openpyxl\n",
    "!pip install pymongo\n",
    "from pyspark.sql import SparkSession\n",
    "import json\n",
    "import pandas\n",
    "import unittest\n",
    "import pymongo\n",
    "\n",
    "uri=\"mongodb://mongo1:27017\"\n",
    "path=\"Online Retail.xlsx\"\n",
    "spark = SparkSession.\\\n",
    "        builder.\\\n",
    "        appName(\"pyspark-notebook2\").\\\n",
    "        master(\"local\").\\\n",
    "        config(\"spark.executor.memory\", \"1g\").\\\n",
    "        config(\"spark.mongodb.input.uri\",uri).\\\n",
    "        config(\"spark.mongodb.output.uri\",uri).\\\n",
    "        config(\"spark.jars.packages\", \"org.mongodb.spark:mongo-spark-connector_2.12:3.0.0\").\\\n",
    "        getOrCreate()\n",
    "\n",
    "%run -i 'invoice.py'"
   ]
  },
  {
   "cell_type": "code",
   "execution_count": null,
   "id": "d4e6e155-f94e-4c19-86c8-08d79f1eec71",
   "metadata": {},
   "outputs": [],
   "source": []
  }
 ],
 "metadata": {
  "kernelspec": {
   "display_name": "Python 3 (ipykernel)",
   "language": "python",
   "name": "python3"
  },
  "language_info": {
   "codemirror_mode": {
    "name": "ipython",
    "version": 3
   },
   "file_extension": ".py",
   "mimetype": "text/x-python",
   "name": "python",
   "nbconvert_exporter": "python",
   "pygments_lexer": "ipython3",
   "version": "3.9.7"
  }
 },
 "nbformat": 4,
 "nbformat_minor": 5
}
