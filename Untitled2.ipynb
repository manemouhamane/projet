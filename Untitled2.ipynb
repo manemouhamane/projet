{
 "cells": [
  {
   "cell_type": "code",
   "execution_count": 10,
   "id": "15d75fc1-37da-467a-b31f-e6569a533e46",
   "metadata": {},
   "outputs": [
    {
     "name": "stdout",
     "output_type": "stream",
     "text": [
      "Requirement already satisfied: openpyxl in /opt/conda/lib/python3.9/site-packages (3.0.9)\n",
      "Requirement already satisfied: et-xmlfile in /opt/conda/lib/python3.9/site-packages (from openpyxl) (1.1.0)\n",
      "Requirement already satisfied: pymongo in /opt/conda/lib/python3.9/site-packages (4.0.1)\n"
     ]
    }
   ],
   "source": [
    "!pip install openpyxl\n",
    "!pip install pymongo"
   ]
  },
  {
   "cell_type": "code",
   "execution_count": null,
   "id": "0e4c76f9-b233-4d64-b23b-e10d7e22c719",
   "metadata": {},
   "outputs": [],
   "source": [
    "%run -i 'invoice.py'"
   ]
  },
  {
   "cell_type": "code",
   "execution_count": null,
   "id": "30fd3213-69d8-463a-b55a-7dca330d35c2",
   "metadata": {},
   "outputs": [],
   "source": []
  }
 ],
 "metadata": {
  "kernelspec": {
   "display_name": "Python 3 (ipykernel)",
   "language": "python",
   "name": "python3"
  },
  "language_info": {
   "codemirror_mode": {
    "name": "ipython",
    "version": 3
   },
   "file_extension": ".py",
   "mimetype": "text/x-python",
   "name": "python",
   "nbconvert_exporter": "python",
   "pygments_lexer": "ipython3",
   "version": "3.9.7"
  }
 },
 "nbformat": 4,
 "nbformat_minor": 5
}
