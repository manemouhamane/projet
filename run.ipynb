{
 "cells": [
  {
   "cell_type": "code",
   "execution_count": 12,
   "id": "0e4c76f9-b233-4d64-b23b-e10d7e22c719",
   "metadata": {},
   "outputs": [
    {
     "name": "stdout",
     "output_type": "stream",
     "text": [
      "Requirement already satisfied: openpyxl in /opt/conda/lib/python3.9/site-packages (3.0.9)\n",
      "Requirement already satisfied: et-xmlfile in /opt/conda/lib/python3.9/site-packages (from openpyxl) (1.1.0)\n",
      "Requirement already satisfied: pymongo in /opt/conda/lib/python3.9/site-packages (4.0.1)\n",
      " Le nombre de transaction par facture\n"
     ]
    },
    {
     "name": "stderr",
     "output_type": "stream",
     "text": [
      "."
     ]
    },
    {
     "name": "stdout",
     "output_type": "stream",
     "text": [
      "+---------+--------+\n",
      "|InvoiceNo|count(1)|\n",
      "+---------+--------+\n",
      "|   536378|     152|\n",
      "|   536380|       8|\n",
      "|   536437|      48|\n",
      "|   536488|     272|\n",
      "|   536508|      16|\n",
      "|   536400|       8|\n",
      "|   536527|     112|\n",
      "|   536404|     224|\n",
      "|   536524|      32|\n",
      "|   536412|     640|\n",
      "|   536477|     112|\n",
      "|   536538|     240|\n",
      "|   536395|     112|\n",
      "|   536394|      88|\n",
      "|   536534|      40|\n",
      "|   536405|       8|\n",
      "|   536423|      72|\n",
      "|   536537|      88|\n",
      "|   536366|      16|\n",
      "|   536533|      48|\n",
      "+---------+--------+\n",
      "only showing top 20 rows\n",
      "\n"
     ]
    },
    {
     "data": {
      "text/plain": [
       "DataFrame[Country: string, CustomerID: double, Description: string, InvoiceDate: string, InvoiceNo: bigint, Quantity: bigint, StockCode: string, UnitPrice: double, _corrupt_record: string]"
      ]
     },
     "metadata": {},
     "output_type": "display_data"
    },
    {
     "name": "stderr",
     "output_type": "stream",
     "text": [
      "."
     ]
    },
    {
     "name": "stdout",
     "output_type": "stream",
     "text": [
      "+---------+--------------+-----+\n",
      "|StockCode|       Country|total|\n",
      "+---------+--------------+-----+\n",
      "|    21788|United Kingdom|   60|\n",
      "|    22042|United Kingdom|   25|\n",
      "|    22539|        France|    9|\n",
      "|    22154|United Kingdom|  116|\n",
      "|    85078|         Italy|    1|\n",
      "|   85034C|         Italy|    1|\n",
      "|    22768|United Kingdom|  221|\n",
      "|    16238|United Kingdom|   69|\n",
      "|    22916|United Kingdom|  187|\n",
      "|        M|United Kingdom|  251|\n",
      "|    21704|United Kingdom|  179|\n",
      "|   35271S|United Kingdom|    2|\n",
      "|   90128B|United Kingdom|    1|\n",
      "|    70007|United Kingdom|   55|\n",
      "|    22242|       Germany|    5|\n",
      "|    72741|United Kingdom|  227|\n",
      "|   15060B|United Kingdom|   79|\n",
      "|   84534B|United Kingdom|    5|\n",
      "|    21816|United Kingdom|    9|\n",
      "|   85232B|United Kingdom|    9|\n",
      "+---------+--------------+-----+\n",
      "only showing top 20 rows\n",
      "\n"
     ]
    },
    {
     "name": "stderr",
     "output_type": "stream",
     "text": [
      "."
     ]
    },
    {
     "name": "stdout",
     "output_type": "stream",
     "text": [
      "+---------+-----+------+--------------------+\n",
      "|StockCode|total| total|         repartition|\n",
      "+---------+-----+------+--------------------+\n",
      "|    21788|   60|348083|1.723726812283277...|\n",
      "|    22042|   25|348083|7.182195051180322E-5|\n",
      "|    22539|    9|  8166|0.001102130786186...|\n",
      "|    22154|  116|348083|3.332538503747669...|\n",
      "|    85078|    1|   747|0.001338688085676...|\n",
      "|   85034C|    1|   747|0.001338688085676...|\n",
      "|    22478|   69|348083|1.982285834125768...|\n",
      "|    22844|  272|348083| 7.81422821568419E-4|\n",
      "|    22389|   30|348083|8.618634061416386E-5|\n",
      "|    84821|   33|348083|9.480497467558024E-5|\n",
      "|    22837|    1|  2433|4.110152075626798E-4|\n",
      "|    21030|    1|   605|0.001652892561983471|\n",
      "|    22768|  221|348083|6.349060425243405E-4|\n",
      "|    16238|   69|348083|1.982285834125768...|\n",
      "|    22916|  187|348083|5.372281898282881E-4|\n",
      "|        M|  251|348083|7.210923831385043E-4|\n",
      "|    21704|  179|348083|5.142451656645111E-4|\n",
      "|   35271S|    2|348083|5.745756040944258E-6|\n",
      "|   90128B|    1|348083|2.872878020472129E-6|\n",
      "|   85049G|   17|  8879|0.001914630025903818|\n",
      "+---------+-----+------+--------------------+\n",
      "only showing top 20 rows\n",
      "\n",
      "+----------+-----------------+\n",
      "|CustomerID|            total|\n",
      "+----------+-----------------+\n",
      "|   14646.0|277346.2199999995|\n",
      "+----------+-----------------+\n",
      "\n"
     ]
    },
    {
     "name": "stderr",
     "output_type": "stream",
     "text": [
      "/opt/conda/lib/python3.9/socket.py:775: ResourceWarning: unclosed <socket.socket fd=63, family=AddressFamily.AF_INET, type=SocketKind.SOCK_STREAM, proto=6, laddr=('127.0.0.1', 54890), raddr=('127.0.0.1', 33653)>\n",
      "  self._sock = None\n",
      "ResourceWarning: Enable tracemalloc to get the object allocation traceback\n",
      "."
     ]
    },
    {
     "name": "stdout",
     "output_type": "stream",
     "text": [
      "L'Id du client qui a depensé le plus est 14646.0 \n"
     ]
    },
    {
     "name": "stderr",
     "output_type": "stream",
     "text": [
      "\n",
      "----------------------------------------------------------------------\n",
      "Ran 4 tests in 264.491s\n",
      "\n",
      "OK\n"
     ]
    }
   ],
   "source": [
    "!pip install openpyxl\n",
    "!pip install pymongo\n",
    "from pyspark.sql import SparkSession\n",
    "import json\n",
    "import pandas\n",
    "import unittest\n",
    "import pymongo\n",
    "\n",
    "uri=\"mongodb://mongo1:27017\"\n",
    "spark = SparkSession.\\\n",
    "        builder.\\\n",
    "        appName(\"pyspark-notebook2\").\\\n",
    "        master(\"local\").\\\n",
    "        config(\"spark.executor.memory\", \"1g\").\\\n",
    "        config(\"spark.mongodb.input.uri\",uri).\\\n",
    "        config(\"spark.mongodb.output.uri\",uri).\\\n",
    "        config(\"spark.jars.packages\", \"org.mongodb.spark:mongo-spark-connector_2.12:3.0.0\").\\\n",
    "        getOrCreate()\n",
    "\n",
    "%run -i 'invoice.py'"
   ]
  },
  {
   "cell_type": "code",
   "execution_count": null,
   "id": "d4e6e155-f94e-4c19-86c8-08d79f1eec71",
   "metadata": {},
   "outputs": [],
   "source": []
  },
  {
   "cell_type": "code",
   "execution_count": null,
   "id": "52f0982c-4fd0-46bc-bf87-9ecd4848433f",
   "metadata": {},
   "outputs": [],
   "source": []
  }
 ],
 "metadata": {
  "kernelspec": {
   "display_name": "Python 3 (ipykernel)",
   "language": "python",
   "name": "python3"
  },
  "language_info": {
   "codemirror_mode": {
    "name": "ipython",
    "version": 3
   },
   "file_extension": ".py",
   "mimetype": "text/x-python",
   "name": "python",
   "nbconvert_exporter": "python",
   "pygments_lexer": "ipython3",
   "version": "3.9.7"
  }
 },
 "nbformat": 4,
 "nbformat_minor": 5
}
