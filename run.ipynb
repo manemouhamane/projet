{
 "cells": [
  {
   "cell_type": "code",
   "execution_count": 16,
   "id": "0e4c76f9-b233-4d64-b23b-e10d7e22c719",
   "metadata": {},
   "outputs": [
    {
     "name": "stdout",
     "output_type": "stream",
     "text": [
      "Requirement already satisfied: openpyxl in /opt/conda/lib/python3.9/site-packages (3.0.9)\n",
      "Requirement already satisfied: et-xmlfile in /opt/conda/lib/python3.9/site-packages (from openpyxl) (1.1.0)\n",
      "Requirement already satisfied: pymongo in /opt/conda/lib/python3.9/site-packages (4.0.1)\n",
      " Le nombre de transaction par facture\n"
     ]
    },
    {
     "name": "stderr",
     "output_type": "stream",
     "text": [
      "."
     ]
    },
    {
     "name": "stdout",
     "output_type": "stream",
     "text": [
      "+---------+--------+\n",
      "|InvoiceNo|count(1)|\n",
      "+---------+--------+\n",
      "|   536821|      23|\n",
      "|   537381|      24|\n",
      "|   538809|      11|\n",
      "|   538878|       8|\n",
      "|   539048|       1|\n",
      "|   539334|      10|\n",
      "|   540168|      51|\n",
      "|   540251|       1|\n",
      "|   540260|      41|\n",
      "|   540954|      26|\n",
      "|   541864|      18|\n",
      "|   543130|       4|\n",
      "|   543166|      32|\n",
      "|   536378|      19|\n",
      "|   536380|       1|\n",
      "|   536437|       6|\n",
      "|   537159|      28|\n",
      "|   537204|      32|\n",
      "|   537359|       9|\n",
      "|   539597|       2|\n",
      "+---------+--------+\n",
      "only showing top 20 rows\n",
      "\n"
     ]
    },
    {
     "data": {
      "text/plain": [
       "DataFrame[Country: string, CustomerID: double, Description: string, InvoiceDate: string, InvoiceNo: bigint, Quantity: bigint, StockCode: string, UnitPrice: double, _corrupt_record: string]"
      ]
     },
     "metadata": {},
     "output_type": "display_data"
    },
    {
     "name": "stderr",
     "output_type": "stream",
     "text": [
      "."
     ]
    },
    {
     "name": "stdout",
     "output_type": "stream",
     "text": [
      "+---------+--------------+-----+\n",
      "|StockCode|       Country|total|\n",
      "+---------+--------------+-----+\n",
      "|    22768|United Kingdom|  221|\n",
      "|    16238|United Kingdom|   69|\n",
      "|    22916|United Kingdom|  187|\n",
      "|    70007|United Kingdom|   55|\n",
      "|    21816|United Kingdom|    9|\n",
      "|   84596E|United Kingdom|   35|\n",
      "|    22573|United Kingdom|  141|\n",
      "|    20972|United Kingdom|  527|\n",
      "|    22438|United Kingdom|   68|\n",
      "|    22297|United Kingdom|  226|\n",
      "|    21210|United Kingdom|  286|\n",
      "|    22565|United Kingdom|  105|\n",
      "|   90059C|United Kingdom|    2|\n",
      "|    22963|United Kingdom|  170|\n",
      "|   84030E|United Kingdom|  264|\n",
      "|    20713|United Kingdom|  381|\n",
      "|    22694|United Kingdom|  306|\n",
      "|    21137|United Kingdom|  299|\n",
      "|    22423|United Kingdom| 1426|\n",
      "|    22466|United Kingdom|  118|\n",
      "+---------+--------------+-----+\n",
      "only showing top 20 rows\n",
      "\n"
     ]
    },
    {
     "name": "stderr",
     "output_type": "stream",
     "text": [
      "."
     ]
    },
    {
     "name": "stdout",
     "output_type": "stream",
     "text": [
      "+---------+--------------------+-----+-------+\n",
      "|StockCode|         repartition|total|Country|\n",
      "+---------+--------------------+-----+-------+\n",
      "|    23117|1.126252956414010...| 8879|Germany|\n",
      "|    84836|1.126252956414010...| 8879|Germany|\n",
      "|    22187|1.126252956414010...| 8879|Germany|\n",
      "|    22717|1.126252956414010...| 8879|Germany|\n",
      "|    22576|2.252505912828021...| 8879|Germany|\n",
      "|    21015|1.126252956414010...| 8879|Germany|\n",
      "|    22186|1.126252956414010...| 8879|Germany|\n",
      "|    23400|1.126252956414010...| 8879|Germany|\n",
      "|    72816|1.126252956414010...| 8879|Germany|\n",
      "|   85061W|1.126252956414010...| 8879|Germany|\n",
      "|   35471D|1.126252956414010...| 8879|Germany|\n",
      "|   35599D|3.378758869242032E-4| 8879|Germany|\n",
      "|    23075|1.126252956414010...| 8879|Germany|\n",
      "|    23483|1.126252956414010...| 8879|Germany|\n",
      "|    23515|4.505011825656042...| 8879|Germany|\n",
      "|    23403|1.126252956414010...| 8879|Germany|\n",
      "|   47518F|1.126252956414010...| 8879|Germany|\n",
      "|   90160D|1.126252956414010...| 8879|Germany|\n",
      "|   84806A|1.126252956414010...| 8879|Germany|\n",
      "|    23552|4.505011825656042...| 8879|Germany|\n",
      "+---------+--------------------+-----+-------+\n",
      "only showing top 20 rows\n",
      "\n",
      "+----------+-----------------+\n",
      "|CustomerID|            total|\n",
      "+----------+-----------------+\n",
      "|   14646.0|277346.2199999995|\n",
      "+----------+-----------------+\n",
      "\n"
     ]
    },
    {
     "name": "stderr",
     "output_type": "stream",
     "text": [
      "/opt/conda/lib/python3.9/socket.py:775: ResourceWarning: unclosed <socket.socket fd=63, family=AddressFamily.AF_INET, type=SocketKind.SOCK_STREAM, proto=6, laddr=('127.0.0.1', 37210), raddr=('127.0.0.1', 40991)>\n",
      "  self._sock = None\n",
      "ResourceWarning: Enable tracemalloc to get the object allocation traceback\n",
      "."
     ]
    },
    {
     "name": "stdout",
     "output_type": "stream",
     "text": [
      "L'Id du client qui a depensé le plus est 14646.0 \n"
     ]
    },
    {
     "name": "stderr",
     "output_type": "stream",
     "text": [
      "\n",
      "----------------------------------------------------------------------\n",
      "Ran 4 tests in 259.926s\n",
      "\n",
      "OK\n"
     ]
    }
   ],
   "source": [
    "!pip install openpyxl\n",
    "!pip install pymongo\n",
    "from pyspark.sql import SparkSession\n",
    "import json\n",
    "import pandas\n",
    "import unittest\n",
    "import pymongo\n",
    "\n",
    "uri=\"mongodb://mongo1:27017\"\n",
    "spark = SparkSession.\\\n",
    "        builder.\\\n",
    "        appName(\"pyspark-notebook2\").\\\n",
    "        master(\"local\").\\\n",
    "        config(\"spark.executor.memory\", \"1g\").\\\n",
    "        config(\"spark.mongodb.input.uri\",uri).\\\n",
    "        config(\"spark.mongodb.output.uri\",uri).\\\n",
    "        config(\"spark.jars.packages\", \"org.mongodb.spark:mongo-spark-connector_2.12:3.0.0\").\\\n",
    "        getOrCreate()\n",
    "\n",
    "%run -i 'invoice.py'"
   ]
  },
  {
   "cell_type": "code",
   "execution_count": null,
   "id": "d4e6e155-f94e-4c19-86c8-08d79f1eec71",
   "metadata": {},
   "outputs": [],
   "source": []
  },
  {
   "cell_type": "code",
   "execution_count": null,
   "id": "52f0982c-4fd0-46bc-bf87-9ecd4848433f",
   "metadata": {},
   "outputs": [],
   "source": []
  }
 ],
 "metadata": {
  "kernelspec": {
   "display_name": "Python 3 (ipykernel)",
   "language": "python",
   "name": "python3"
  },
  "language_info": {
   "codemirror_mode": {
    "name": "ipython",
    "version": 3
   },
   "file_extension": ".py",
   "mimetype": "text/x-python",
   "name": "python",
   "nbconvert_exporter": "python",
   "pygments_lexer": "ipython3",
   "version": "3.9.7"
  }
 },
 "nbformat": 4,
 "nbformat_minor": 5
}
