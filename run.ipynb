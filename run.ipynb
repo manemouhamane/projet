{
 "cells": [
  {
   "cell_type": "code",
   "execution_count": null,
   "id": "0e4c76f9-b233-4d64-b23b-e10d7e22c719",
   "metadata": {},
   "outputs": [
    {
     "name": "stdout",
     "output_type": "stream",
     "text": [
      "Requirement already satisfied: openpyxl in /opt/conda/lib/python3.9/site-packages (3.0.9)\n",
      "Requirement already satisfied: et-xmlfile in /opt/conda/lib/python3.9/site-packages (from openpyxl) (1.1.0)\n",
      "Requirement already satisfied: pymongo in /opt/conda/lib/python3.9/site-packages (4.0.1)\n",
      " Le nombre de transaction par facture\n"
     ]
    },
    {
     "name": "stderr",
     "output_type": "stream",
     "text": [
      "."
     ]
    },
    {
     "name": "stdout",
     "output_type": "stream",
     "text": [
      "+---------+-----------------+\n",
      "|InvoiceNo|nombreTransaction|\n",
      "+---------+-----------------+\n",
      "|   536821|               23|\n",
      "|   537381|               24|\n",
      "|   538809|               11|\n",
      "|   538878|                8|\n",
      "|   539048|                1|\n",
      "|   539334|               10|\n",
      "|   540168|               51|\n",
      "|   540251|                1|\n",
      "|   540260|               41|\n",
      "|   540954|               26|\n",
      "|   536378|               19|\n",
      "|   536380|                1|\n",
      "|   536437|                6|\n",
      "|   537159|               28|\n",
      "|   537204|               32|\n",
      "|   537359|                9|\n",
      "|   539597|                2|\n",
      "|   539730|               11|\n",
      "|   540015|               28|\n",
      "|   540825|                3|\n",
      "+---------+-----------------+\n",
      "only showing top 20 rows\n",
      "\n"
     ]
    }
   ],
   "source": [
    "!pip install openpyxl\n",
    "!pip install pymongo\n",
    "from pyspark.sql import SparkSession\n",
    "import json\n",
    "import pandas\n",
    "import unittest\n",
    "import pymongo\n",
    "\n",
    "uri=\"mongodb://mongo1:27017\"\n",
    "spark = SparkSession.\\\n",
    "        builder.\\\n",
    "        appName(\"pyspark-notebook2\").\\\n",
    "        master(\"local\").\\\n",
    "        config(\"spark.executor.memory\", \"1g\").\\\n",
    "        config(\"spark.mongodb.input.uri\",uri).\\\n",
    "        config(\"spark.mongodb.output.uri\",uri).\\\n",
    "        config(\"spark.jars.packages\", \"org.mongodb.spark:mongo-spark-connector_2.12:3.0.0\").\\\n",
    "        getOrCreate()\n",
    "\n",
    "%run -i 'invoice.py'"
   ]
  },
  {
   "cell_type": "code",
   "execution_count": null,
   "id": "d4e6e155-f94e-4c19-86c8-08d79f1eec71",
   "metadata": {},
   "outputs": [],
   "source": []
  },
  {
   "cell_type": "code",
   "execution_count": null,
   "id": "52f0982c-4fd0-46bc-bf87-9ecd4848433f",
   "metadata": {},
   "outputs": [],
   "source": []
  }
 ],
 "metadata": {
  "kernelspec": {
   "display_name": "Python 3 (ipykernel)",
   "language": "python",
   "name": "python3"
  },
  "language_info": {
   "codemirror_mode": {
    "name": "ipython",
    "version": 3
   },
   "file_extension": ".py",
   "mimetype": "text/x-python",
   "name": "python",
   "nbconvert_exporter": "python",
   "pygments_lexer": "ipython3",
   "version": "3.9.7"
  }
 },
 "nbformat": 4,
 "nbformat_minor": 5
}
